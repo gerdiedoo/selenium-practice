{
 "cells": [
  {
   "cell_type": "code",
   "execution_count": null,
   "metadata": {},
   "outputs": [],
   "source": [
    "from selenium import webdriver\n",
    "from selenium.webdriver.common.keys import Keys\n",
    "from selenium.webdriver.common.by import By"
   ]
  },
  {
   "cell_type": "code",
   "execution_count": null,
   "metadata": {},
   "outputs": [],
   "source": [
    "driver = webdriver.Firefox()\n",
    "driver.get(\"http://www.python.org\")\n",
    "assert \"Python\" in driver.title\n",
    "elem = driver.find_element(By.NAME, \"q\")\n",
    "elem.clear()\n",
    "elem.send_keys(\"pycon\")\n",
    "elem.send_keys(Keys.RETURN)\n",
    "assert \"No results found.\" not in driver.page_source\n",
    "# driver.close()"
   ]
  },
  {
   "cell_type": "code",
   "execution_count": null,
   "metadata": {},
   "outputs": [],
   "source": [
    "import unittest\n",
    "from selenium import webdriver\n",
    "from selenium.webdriver.common.keys import Keys\n",
    "from selenium.webdriver.common.by import By\n",
    "\n",
    "class PythonOrgSearch(unittest.TestCase):\n",
    "\n",
    "    def setUp(self):\n",
    "        self.driver = webdriver.Firefox()\n",
    "\n",
    "    def test_search_in_python_org(self):\n",
    "        driver = self.driver\n",
    "        driver.get(\"http://www.python.org\")\n",
    "        self.assertIn(\"Python\", driver.title)\n",
    "        elem = driver.find_element(By.NAME, \"q\")\n",
    "        elem.send_keys(\"pycon\")\n",
    "        elem.send_keys(Keys.RETURN)\n",
    "        self.assertNotIn(\"No results found.\", driver.page_source)\n",
    "\n",
    "\n",
    "    def tearDown(self):\n",
    "        self.driver.close()\n",
    "\n",
    "if __name__ == \"__main__\":\n",
    "    unittest.main()"
   ]
  }
 ],
 "metadata": {
  "language_info": {
   "name": "python"
  }
 },
 "nbformat": 4,
 "nbformat_minor": 2
}
